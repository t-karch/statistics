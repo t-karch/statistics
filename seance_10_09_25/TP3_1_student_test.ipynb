{
 "cells": [
  {
   "cell_type": "markdown",
   "metadata": {},
   "source": [
    "# TP 3.1 : Test de Student"
   ]
  },
  {
   "cell_type": "markdown",
   "metadata": {},
   "source": [
    "Nous nous intéressons ici au test de Student de comparaison des moyennes sur 2 échantillons indépendants simulés selon des lois normales de même variance $\\sigma^2 > 0$,\n",
    "\\begin{equation*}\n",
    "X_1,\\dots,X_p \\sim \\mathcal{N}(m_X,\\sigma^2) \\quad \\text{et} \\quad Y_1,\\dots,Y_q \\sim \\mathcal{N}(m_Y,\\sigma^2).\n",
    "\\end{equation*}\n",
    "Pour expérimenter, nous prendrons $p=q=10$, $m_X=m_Y=0$ et $\\sigma^2=1$."
   ]
  },
  {
   "cell_type": "code",
   "execution_count": 105,
   "metadata": {
    "vscode": {
     "languageId": "r"
    }
   },
   "outputs": [],
   "source": [
    "# Génération des échantillons\n",
    "x <- rnorm(10)\n",
    "y <- rnorm(10)"
   ]
  },
  {
   "cell_type": "markdown",
   "metadata": {},
   "source": [
    "Le test bilatéral de comparaison des moyennes sur ces 2 échantillons se fait en utilisant la fonction `t.test()` avec l'option `var.equal=TRUE`."
   ]
  },
  {
   "cell_type": "code",
   "execution_count": 106,
   "metadata": {
    "vscode": {
     "languageId": "r"
    }
   },
   "outputs": [
    {
     "data": {
      "text/plain": [
       "\n",
       "\tTwo Sample t-test\n",
       "\n",
       "data:  x and y\n",
       "t = 1.3244, df = 18, p-value = 0.2019\n",
       "alternative hypothesis: true difference in means is not equal to 0\n",
       "95 percent confidence interval:\n",
       " -0.3699819  1.6319853\n",
       "sample estimates:\n",
       "mean of x mean of y \n",
       "0.9085388 0.2775371 \n"
      ]
     },
     "metadata": {},
     "output_type": "display_data"
    }
   ],
   "source": [
    "# Test bilatéral de comparaison des moyennes\n",
    "resultat_test <- t.test(x, y, var.equal=TRUE)\n",
    "\n",
    "# L'objet obtenu contient beaucoup d'informations\n",
    "resultat_test"
   ]
  },
  {
   "cell_type": "markdown",
   "metadata": {},
   "source": [
    "<div class=\"alert alert-block alert-success\">\n",
    "    Utilisez la cellule suivante pour répondre aux questions :\n",
    "    <ol>\n",
    "        <li>Donner l'hypothèse nulle $H_0$ et l'hypothèse alternative $H_1$ de ce test.</li>\n",
    "        <li>Pourquoi faut-il supposer que les deux échantillons aient la même variance ? En particulier, quelle est la loi de la variable\n",
    "            \\begin{equation*}\n",
    "                (p+q-2)\\frac{\\tilde{\\sigma}^2_{p,q}}{\\sigma^2} \\quad \\text{où} \\quad \\tilde{\\sigma}^2_{p,q} = \\frac{1}{p+q-2}\\sum_{k=1}^p\\left( X_k - \\bar{X}_p \\right)^2 + \\frac{1}{p+q-2}\\sum_{k=1}^q\\left( Y_k - \\bar{Y}_q \\right)^2\\ ?\n",
    "            \\end{equation*}\n",
    "        </li>\n",
    "        <li>En déduire la loi de la statistique de test\n",
    "            \\begin{equation*}\n",
    "                T = \\sqrt{\\frac{pq}{p+q}} \\times \\frac{\\bar{X}_p - \\bar{Y}_q}{\\sqrt{\\tilde{\\sigma}^2_{p,q}}}.\n",
    "            \\end{equation*}\n",
    "        </li>\n",
    "        <li>Vérifier le calcul de la statistique de test donné dans <code>resultat_test</code>.</li>\n",
    "        <li>Quelle est la p-valeur du test <code>resultat_test</code> ? Pour un niveau de 95%, doit-on accepter ou rejeter $H_0$ ? Est-ce cohérent avec notre simulation initiale ?</li>\n",
    "        <li>Recalculer cette p-valeur à partir d'une loi de Student à 18 degrés de liberté.</li>\n",
    "    </ol>\n",
    "</div>"
   ]
  },
  {
   "cell_type": "markdown",
   "metadata": {},
   "source": [
    "1\n",
    "H0 : mu_x = mu_y\n",
    "H1 : mu_x != mu_y\n",
    "\n",
    "2\n",
    "Il faut supposer que les deux échantillons ont la meme variance car la somme des carrés des deux échantillons n'est plus proportionnelle à une même \n",
    "σ^2\n",
    "Les deux sommes suivent des lois de (sigma^2 Khi2) avec comme paramètre p - 1 et q - 1. comme la variables sont indépendantes ET que c'est la meme variance, on peut dire que la somme des deux sommes suit une loi sigma^2 Khi2(p+q-2)\n",
    "\n",
    "En remplaçant on obtient que la loi de la variable est un Khi2(p+q-2)\n",
    "\n",
    "3\n",
    "<center><img src=\"img/Screen1.png\"></center>"
   ]
  },
  {
   "cell_type": "code",
   "execution_count": 107,
   "metadata": {
    "vscode": {
     "languageId": "r"
    }
   },
   "outputs": [
    {
     "name": "stdout",
     "output_type": "stream",
     "text": [
      "       t \n",
      "1.324383 \n",
      "[1] 1.324383\n",
      "1"
     ]
    },
    {
     "data": {
      "text/html": [
       "0.201946971709181"
      ],
      "text/latex": [
       "0.201946971709181"
      ],
      "text/markdown": [
       "0.201946971709181"
      ],
      "text/plain": [
       "[1] 0.201947"
      ]
     },
     "metadata": {},
     "output_type": "display_data"
    },
    {
     "name": "stdout",
     "output_type": "stream",
     "text": [
      "2[1] 0.201947\n"
     ]
    }
   ],
   "source": [
    "p <- length(x); q <- length(x)\n",
    "barX <- mean(x); barY <- mean(y)\n",
    "SSx <- sum((x - barX)^2); SSy <- sum((y - barY)^2)\n",
    "tilde_sigma2 <- (SSx + SSy)/(p+q-2)\n",
    "T <- sqrt(p*q/(p+q))*(barX - barY)/sqrt(tilde_sigma2)\n",
    "df <- p+q-2\n",
    "p_value <- 2 * pt(-abs(T), df)\n",
    "\n",
    "# affichage de la statistique de test\n",
    "print(resultat_test$statistic)\n",
    "print(T)\n",
    "\n",
    "# affichage des p-values\n",
    "cat(\"1\")\n",
    "p_value\n",
    "cat(\"2\")\n",
    "print(resultat_test$p.value)"
   ]
  },
  {
   "cell_type": "markdown",
   "metadata": {},
   "source": [
    "comme la P value est supérieur au alpha (0.05), on ne rejette PAS H0\n",
    "Moyen mnemo technique (p<alpha  -> on rejette une H0 <-> on rejette si la Proposition de salaire est plusfaible par rapport aux attentes (alpha))"
   ]
  },
  {
   "cell_type": "code",
   "execution_count": 108,
   "metadata": {
    "vscode": {
     "languageId": "r"
    }
   },
   "outputs": [
    {
     "data": {
      "text/html": [
       "0.201946971709181"
      ],
      "text/latex": [
       "0.201946971709181"
      ],
      "text/markdown": [
       "0.201946971709181"
      ],
      "text/plain": [
       "[1] 0.201947"
      ]
     },
     "metadata": {},
     "output_type": "display_data"
    }
   ],
   "source": [
    "#6\n",
    "p_value_df18 <- 2 * pt(-abs(T), df = 18)\n",
    "p_value_df18\n"
   ]
  },
  {
   "cell_type": "markdown",
   "metadata": {},
   "source": [
    "Pour illustrer la notion de niveau d'un test, nous simulons 1000 paires d'échantillons de taille 10 comme ci-dessus et nous les stockons dans deux matrices `X` et `Y`."
   ]
  },
  {
   "cell_type": "code",
   "execution_count": 109,
   "metadata": {
    "vscode": {
     "languageId": "r"
    }
   },
   "outputs": [],
   "source": [
    "X <- matrix(rnorm(1000*10), nrow=1000)\n",
    "Y <- matrix(rnorm(1000*10), nrow=1000)"
   ]
  },
  {
   "cell_type": "markdown",
   "metadata": {},
   "source": [
    "<div class=\"alert alert-block alert-success\">\n",
    "    Utilisez la cellule suivante pour répondre aux questions :\n",
    "    <ol>\n",
    "        <li>Effectuer un test de comparaison des moyennes pour chaque paire d'échantillons et stocker la p-valeur du résultat dans un vecteur <code>p_valeur</code> de taille 1000.</li>\n",
    "        <li>Combien de p-valeurs inférieures à 0.05 obtenez-vous ? Combien devriez-vous théoriquement en obtenir en moyenne ?</li>\n",
    "        <li>Repérer l'indice du test qui donne la plus petite p-valeur (il peut être utile d'utiliser la fonction <code>which.min()</code>). Pour un niveau de 95%, doit-on accepter ou rejeter $H_0$ pour ce test ?</li>\n",
    "        <li>Représenter graphiquement les données correspondant à ce test :\n",
    "            <ul>\n",
    "                <li>afficher la densité de la loi normale centrée réduite entre -3 et 3 avec <code>plot(dnorm, -3, 3, type=\"l\")</code>,</li>\n",
    "                <li>afficher les deux échantillons avec deux couleurs différentes grâce à la fonction <code>rug()</code>,</li>\n",
    "                <li>afficher les moyennes des deux échantillons (fonction <code>rug()</code>),</li>\n",
    "                <li>ajouter une légende.</li>\n",
    "            </ul>\n",
    "            <center><img src=\"img/student.png\"></center>\n",
    "        </li>\n",
    "    </ol>\n",
    "</div>"
   ]
  },
  {
   "cell_type": "code",
   "execution_count": 110,
   "metadata": {
    "vscode": {
     "languageId": "r"
    }
   },
   "outputs": [],
   "source": [
    "#1\n",
    "p_valeur <- numeric(1000)\n",
    "for (i in 1:1000) {\n",
    "  \n",
    "  res <- t.test(X[i,], Y[i,], var.equal = TRUE)\n",
    "  p_valeur[i] <- res$p.value\n",
    "}\n",
    "\n",
    "# print(p_valeur)"
   ]
  },
  {
   "cell_type": "code",
   "execution_count": 111,
   "metadata": {
    "vscode": {
     "languageId": "r"
    }
   },
   "outputs": [
    {
     "data": {
      "text/html": [
       "0.058"
      ],
      "text/latex": [
       "0.058"
      ],
      "text/markdown": [
       "0.058"
      ],
      "text/plain": [
       "[1] 0.058"
      ]
     },
     "metadata": {},
     "output_type": "display_data"
    }
   ],
   "source": [
    "#2\n",
    "sum(p_valeur < 0.05)/sum(p_valeur<2)"
   ]
  },
  {
   "cell_type": "markdown",
   "metadata": {},
   "source": [
    "On retrouve bien qu'il y a a peu pres 5% des p_valeurs pour laquel le test ne va pas conclure"
   ]
  },
  {
   "cell_type": "code",
   "execution_count": 112,
   "metadata": {
    "vscode": {
     "languageId": "r"
    }
   },
   "outputs": [
    {
     "data": {
      "text/html": [
       "0.00161539310709403"
      ],
      "text/latex": [
       "0.00161539310709403"
      ],
      "text/markdown": [
       "0.00161539310709403"
      ],
      "text/plain": [
       "[1] 0.001615393"
      ]
     },
     "metadata": {},
     "output_type": "display_data"
    }
   ],
   "source": [
    "i_min <- which.min(p_valeur)\n",
    "p_valeur[i_min]"
   ]
  },
  {
   "cell_type": "markdown",
   "metadata": {},
   "source": [
    "Pour ce test comme 0.00043 < 5 on doit rejeter H0"
   ]
  },
  {
   "cell_type": "code",
   "execution_count": 113,
   "metadata": {
    "vscode": {
     "languageId": "r"
    }
   },
   "outputs": [
    {
     "data": {
      "image/png": "[encoded data removed]",
      "text/plain": [
       "Plot with title \"Distribution des echantillons avec p-value minimale\""
      ]
     },
     "metadata": {
      "image/png": {
       "height": 420,
       "width": 420
      }
     },
     "output_type": "display_data"
    }
   ],
   "source": [
    "plot(dnorm, -3, 3, type=\"l\", main = \"Distribution des echantillons avec p-value minimale\")\n",
    "\n",
    "rug(X[i_min,], col = \"blue\", ticksize = 0.2 )\n",
    "rug(Y[i_min,], col = \"red\", ticksize = 0.2)\n",
    "\n",
    "rug(mean(X[i_min,]), col = \"blue\", lwd = 3, ticksize = 0.3)\n",
    "rug(mean(Y[i_min,]), col = \"red\", lwd = 3, ticksize = 0.3)\n",
    "\n",
    "legend(\"topright\", legend = c(\"echantillon X\", \"echantillon Y\"), col = c(\"blue\", \"red\"), lty = 1)\n",
    "\n",
    "\n"
   ]
  },
  {
   "cell_type": "code",
   "execution_count": 114,
   "metadata": {
    "vscode": {
     "languageId": "r"
    }
   },
   "outputs": [
    {
     "name": "stdout",
     "output_type": "stream",
     "text": [
      "rug                  package:graphics                  R Documentation\n",
      "\n",
      "_\bA_\bd_\bd _\ba _\bR_\bu_\bg _\bt_\bo _\ba _\bP_\bl_\bo_\bt\n",
      "\n",
      "_\bD_\be_\bs_\bc_\br_\bi_\bp_\bt_\bi_\bo_\bn:\n",
      "\n",
      "     Adds a _rug_ representation (1-d plot) of the data to the plot.\n",
      "\n",
      "_\bU_\bs_\ba_\bg_\be:\n",
      "\n",
      "     rug(x, ticksize = 0.03, side = 1, lwd = 0.5, col = par(\"fg\"),\n",
      "         quiet = getOption(\"warn\") < 0, ...)\n",
      "     \n",
      "_\bA_\br_\bg_\bu_\bm_\be_\bn_\bt_\bs:\n",
      "\n",
      "       x: A numeric vector\n",
      "\n",
      "ticksize: The length of the ticks making up the 'rug'.  Positive\n",
      "          lengths give inwards ticks.\n",
      "\n",
      "    side: On which side of the plot box the rug will be plotted.\n",
      "          Normally 1 (bottom) or 3 (top).\n",
      "\n",
      "     lwd: The line width of the ticks.  Some devices will round the\n",
      "          default width up to '1'.\n",
      "\n",
      "     col: The colour the ticks are plotted in.\n",
      "\n",
      "   quiet: logical indicating if there should be a warning about clipped\n",
      "          values.\n",
      "\n",
      "     ...: further arguments, passed to 'axis', such as 'line' or 'pos'\n",
      "          for specifying the location of the rug.\n",
      "\n",
      "_\bD_\be_\bt_\ba_\bi_\bl_\bs:\n",
      "\n",
      "     Because of the way 'rug' is implemented, only values of 'x' that\n",
      "     fall within the plot region are included.  There will be a warning\n",
      "     if any finite values are omitted, but non-finite values are\n",
      "     omitted silently.\n",
      "\n",
      "_\bR_\be_\bf_\be_\br_\be_\bn_\bc_\be_\bs:\n",
      "\n",
      "     Chambers, J. M. and Hastie, T. J. (1992) _Statistical Models in\n",
      "     S._ Wadsworth & Brooks/Cole.\n",
      "\n",
      "_\bS_\be_\be _\bA_\bl_\bs_\bo:\n",
      "\n",
      "     'jitter' which you may want for ties in 'x'.\n",
      "\n",
      "_\bE_\bx_\ba_\bm_\bp_\bl_\be_\bs:\n",
      "\n",
      "     require(stats)  # both 'density' and its default method\n",
      "     with(faithful, {\n",
      "         plot(density(eruptions, bw = 0.15))\n",
      "         rug(eruptions)\n",
      "         rug(jitter(eruptions, amount = 0.01), side = 3, col = \"light blue\")\n",
      "     })\n",
      "     "
     ]
    }
   ],
   "source": [
    "?rug"
   ]
  }
 ],
 "metadata": {
  "kernelspec": {
   "display_name": "R",
   "language": "R",
   "name": "ir"
  },
  "language_info": {
   "codemirror_mode": "r",
   "file_extension": ".r",
   "mimetype": "text/x-r-source",
   "name": "R",
   "pygments_lexer": "r",
   "version": "4.5.1"
  }
 },
 "nbformat": 4,
 "nbformat_minor": 4
}
