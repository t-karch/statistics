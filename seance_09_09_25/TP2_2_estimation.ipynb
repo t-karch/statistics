{
 "cells": [
  {
   "cell_type": "markdown",
   "id": "dd560ada",
   "metadata": {},
   "source": [
    "# TP 2.2 : Estimation"
   ]
  },
  {
   "cell_type": "markdown",
   "id": "20c928e4",
   "metadata": {},
   "source": [
    "## 1. Loi de Pareto\n",
    "\n",
    "On considère dans cette partie une variable aléatoire suivant une loi de Pareto d'indice $\\alpha$. C'est-à-dire $X\\sim \\mathcal{P}(\\alpha)$ si \n",
    "$$\n",
    "\\mathbb{P}(X>t)=x^{-\\alpha},\\quad t>1.\n",
    "$$\n",
    "On supposera, si besoin, que le parametre $\\alpha>2$ pour s'arrurer que l'espérance et la variance de $X$ soit bien définie.\n"
   ]
  },
  {
   "cell_type": "markdown",
   "id": "2a4f7ed1",
   "metadata": {},
   "source": [
    "<div class=\"alert alert-block alert-success\">\n",
    "    En utilisant le fait suivant :\n",
    "Si $Z$ est une variable aléatoire de fonction de répartition $F$ alors si $U\\sim \\mathcal{U}([0,1])$, la variable $F^{-1}(U)$ suit la même loi que $Z$.\n",
    "\n",
    "Construire un vecteur de taille 100 contenant des réalisations d'une variable aléatoire suivant une loi $\\mathcal{P}(3)$.\n",
    "    \n",
    "</div>"
   ]
  },
  {
   "cell_type": "code",
   "execution_count": 2,
   "id": "6bc45bb2",
   "metadata": {
    "vscode": {
     "languageId": "r"
    }
   },
   "outputs": [],
   "source": [
    "vecteur_P_3 <- (1 - runif(100))^(-1/3)\n",
    "# (1 - U)^(-1/alpha) suit une loi de Pareto(alpha) et U est uniforme(0,1)"
   ]
  },
  {
   "cell_type": "markdown",
   "id": "deccc0a1",
   "metadata": {},
   "source": [
    "##  2. Estimation\n",
    "\n",
    "Dans cette partie on souhaite comparer les estimateurs par la méthodes des moments et du maximum de vraisemblance du parametre $\\alpha$.\n",
    "<div>\n",
    "    Utilisez la cellule suivante pour répondre aux questions :\n",
    "    <ol>\n",
    "        <li> Calculer (à la main) l'estimateur par la méthode des moments de $\\alpha$.</li>\n",
    "        <li> Discuter en quelque mots si cet estimateur est fortement consistent ? Asymptotiquement normal ? </li>\n",
    "        <li> Illustrer numériquement la consistence de l'estimateur des moments. </li>\n",
    "        <li> Illustrer, en vous inspirant de la première partie du TP 2.1 numériquement, la normalité asymptotique de l'estimateur des moments.</li>\n",
    "    </ol>\n",
    "</div>\n"
   ]
  },
  {
   "cell_type": "code",
   "execution_count": 3,
   "id": "077a0cba",
   "metadata": {
    "vscode": {
     "languageId": "r"
    }
   },
   "outputs": [
    {
     "data": {
      "text/html": [
       "2.7572028058828"
      ],
      "text/latex": [
       "2.7572028058828"
      ],
      "text/markdown": [
       "2.7572028058828"
      ],
      "text/plain": [
       "[1] 2.757203"
      ]
     },
     "metadata": {},
     "output_type": "display_data"
    }
   ],
   "source": [
    "#1\n",
    "alpha_moments <- mean(vecteur_P_3) / (mean(vecteur_P_3) - 1)\n",
    "alpha_moments"
   ]
  },
  {
   "cell_type": "markdown",
   "id": "7e109cec",
   "metadata": {},
   "source": [
    "<div class=\"alert alert-block alert-success\">\n",
    "    Utilisez la cellule suivante pour répondre aux questions :\n",
    "    <ol>\n",
    "        <li> Calculer (à la main) l'estimateur du maximum de vraisemblance de $\\alpha$.</li>\n",
    "        <li> Illustrer numériquement la consistence de l'estimateur des moments. </li>\n",
    "        <li> Illustrer, en vous inspirant de la première partie du TP 2.1, numériquement la normalité asymptotique de l'estimateur des moments.</li>\n",
    "    </ol>\n",
    "</div>"
   ]
  },
  {
   "cell_type": "code",
   "execution_count": 4,
   "id": "f936caf6",
   "metadata": {
    "vscode": {
     "languageId": "r"
    }
   },
   "outputs": [
    {
     "data": {
      "text/html": [
       "2.67870817217581"
      ],
      "text/latex": [
       "2.67870817217581"
      ],
      "text/markdown": [
       "2.67870817217581"
      ],
      "text/plain": [
       "[1] 2.678708"
      ]
     },
     "metadata": {},
     "output_type": "display_data"
    },
    {
     "data": {
      "text/html": [
       "-0.0784946337069923"
      ],
      "text/latex": [
       "-0.0784946337069923"
      ],
      "text/markdown": [
       "-0.0784946337069923"
      ],
      "text/plain": [
       "[1] -0.07849463"
      ]
     },
     "metadata": {},
     "output_type": "display_data"
    },
    {
     "data": {
      "text/html": [
       "0.100398034102698"
      ],
      "text/latex": [
       "0.100398034102698"
      ],
      "text/markdown": [
       "0.100398034102698"
      ],
      "text/plain": [
       "[1] 0.100398"
      ]
     },
     "metadata": {},
     "output_type": "display_data"
    },
    {
     "data": {
      "text/html": [
       "0.104665347909271"
      ],
      "text/latex": [
       "0.104665347909271"
      ],
      "text/markdown": [
       "0.104665347909271"
      ],
      "text/plain": [
       "[1] 0.1046653"
      ]
     },
     "metadata": {},
     "output_type": "display_data"
    }
   ],
   "source": [
    "#1\n",
    "alpha_mle <- length(vecteur_P_3) / sum(log(vecteur_P_3))\n",
    "alpha_mle   \n",
    "alpha_mle - alpha_moments   \n",
    "# La différence est très faible, les deux estimateurs sont proches\n",
    "\n",
    "#2\n",
    "n <- length(vecteur_P_3)\n",
    "var_moments <- (alpha_moments^2) / (n * (alpha_moments - 2))\n",
    "var_mle <- (alpha_mle^2 * (n - 1)) / (n^2 * (alpha_mle - 2))\n",
    "var_moments\n",
    "var_mle\n",
    "# La variance de l'estimateur du maximum de vraisemblance est plus petite que\n",
    "# celle de l'estimateur des moments, ce qui indique que l'estimateur du\n",
    "# maximum de vraisemblance est plus efficace.       \n",
    "#3\n"
   ]
  },
  {
   "cell_type": "markdown",
   "id": "0b15056d",
   "metadata": {},
   "source": [
    "<div class=\"alert alert-block alert-success\">\n",
    "    Utilisez la cellule suivante pour répondre aux questions :\n",
    "    <ol>\n",
    "        <li> En vous inspirant de la première partie du TP 2.1, calculer la variance de chaqun des deux estimateurs.</li>\n",
    "        <li> L'un vous semble-t-il plus performent ? Est-ce surprenant ?  </li>\n",
    "    </ol>\n",
    "</div>"
   ]
  },
  {
   "cell_type": "code",
   "execution_count": null,
   "id": "1bfa826f",
   "metadata": {
    "vscode": {
     "languageId": "r"
    }
   },
   "outputs": [],
   "source": [
    "#1\n"
   ]
  },
  {
   "cell_type": "markdown",
   "id": "e95d0c76",
   "metadata": {},
   "source": [
    "## 3. Pour aller plus loin : le bootstrap.\n",
    "\n",
    "Maintenant, contrairement à la première partie du TP 2.1, nous supposerons avoir uniquement un vecteur de 100 réalisation de notre loi de Pareto et qu'il nous est IMPOSSIBLE d'en tirer ou simuler d'avantage.\n",
    "\n",
    "Pour criconvenir a ce désagrément B. Efron propose en 1979 la méthode suivante :\n",
    "\n",
    "Soit $X_1,\\dots,X_n$ notre échantillon. On va alors tirer dans cet échantillon pour construire un echantillon bootstrap.\n",
    "Formellement on tirer $u(1),\\dots,u(n)$ $n$ variables aléatoires i.i.d uniforme sur {$1,\\dots,n$} (donc discrète). Léchantillon bootstrap est alors $X_{u(1)},\\dots,X_{u(n)}$.\n",
    "\n",
    "Attention : ce n'est pas un mélange des $(X_i)$, en effet le même $X_{i_0}$ peut apparaitre plusieur fois dans l'échantillon bootstrap.\n",
    "\n",
    "Pour $B\\in \\mathbb{N}$ on peut répéter cette opétation $B$ fois et ainsi obtenir $B$ échantillons noté $X_{1}^b,\\dots,X_{n}^b$ pour $b$ allant de $1$ à $B$. Sur chaque échantillon on peut alors construire un estimateur de $\\alpha$ et ainsi obtenir $\\hat \\alpha_n^1,\\dot,\\hat \\alpha_n^B$, $B$ estimateur bootstrap.\n",
    "\n",
    "Sous certaine condition, en particulier si $\\sqrt{n}(\\hat \\alpha_n-\\alpha)\\underset{n\\rightarrow\\infty}{\\longrightarrow}\\mathcal{N}(0,\\sigma^2)$, on a \n",
    "$$\n",
    "\\sqrt{B}\\left(\\frac{1}{B}\\sum_{b=1}^B\\hat \\alpha_n^b-\\alpha_n\\right)\\underset{n\\rightarrow\\infty}{\\longrightarrow}\\mathcal{N}(0,\\sigma^2).\n",
    "$$\n",
    "\n",
    "<div class=\"alert alert-block alert-success\">\n",
    "    Utilisez la cellule suivante pour répondre aux questions :\n",
    "    <ol>\n",
    "        <li> Mettre en place une procédure bootsrap pour l'estimateur du maximum de vraisemblance. Vous pourrez vous aider de la fonction <code>sample()<code>. </li>\n",
    "        <li> Vérifier numériquement que la moyenne des estimateur bootstrap vérifie bien la propriété ci dessus. </li>\n",
    "    </ol>\n",
    "</div>"
   ]
  },
  {
   "cell_type": "code",
   "execution_count": null,
   "id": "6add6270",
   "metadata": {
    "vscode": {
     "languageId": "r"
    }
   },
   "outputs": [],
   "source": [
    "#A FAIRE"
   ]
  },
  {
   "cell_type": "markdown",
   "id": "d1c7d208",
   "metadata": {},
   "source": [
    "<div class=\"alert alert-block alert-success\">\n",
    "    Utilisez la cellule suivante pour répondre aux questions : Les questions 2 et 3 concernent les tests que nous verrons demain, vous pourrez donc y revenir à ce moment la.\n",
    "    <ol>\n",
    "        <li> Se servir de cette méthode pour estimer la variance de l'estimateur du maximum de vraisemblance. </li>\n",
    "        <li> Comment se servir de cette méthode pour construire un test de niveau $0.95$ testant l'hypothèse $H_0 : \\alpha= 3$ contre l'alternative $H_1\\neq 3$ </li>\n",
    "        <li> Vous chercherez à évaluer la puissance de ce test en fonction de $\\alpha$. </li>\n",
    "    </ol>\n",
    "</div>"
   ]
  },
  {
   "cell_type": "code",
   "execution_count": null,
   "id": "f06c556b",
   "metadata": {
    "vscode": {
     "languageId": "r"
    }
   },
   "outputs": [],
   "source": [
    "#A FAIRE"
   ]
  }
 ],
 "metadata": {
  "kernelspec": {
   "display_name": "R",
   "language": "R",
   "name": "ir"
  },
  "language_info": {
   "codemirror_mode": "r",
   "file_extension": ".r",
   "mimetype": "text/x-r-source",
   "name": "R",
   "pygments_lexer": "r",
   "version": "4.5.1"
  }
 },
 "nbformat": 4,
 "nbformat_minor": 5
}
